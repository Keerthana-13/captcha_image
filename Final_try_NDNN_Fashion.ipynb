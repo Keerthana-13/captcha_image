{
 "cells": [
  {
   "cell_type": "code",
   "execution_count": null,
   "id": "bece17d1",
   "metadata": {},
   "outputs": [],
   "source": [
    "#Neural Network using Nested Design using Fashion minist dataset "
   ]
  },
  {
   "cell_type": "code",
   "execution_count": null,
   "id": "0502ff63",
   "metadata": {},
   "outputs": [],
   "source": []
  },
  {
   "cell_type": "code",
   "execution_count": 1,
   "id": "21af5291",
   "metadata": {},
   "outputs": [
    {
     "name": "stdout",
     "output_type": "stream",
     "text": [
      "Inner CV scores: [0.8797810077667236, 0.8766219019889832, 0.8879472017288208]\n",
      "Outer CV scores: [0.9006999731063843, 0.8948000073432922, 0.8912500143051147]\n",
      "Mean outer CV score: 0.8955833315849304\n"
     ]
    }
   ],
   "source": [
    "import numpy as np\n",
    "from tensorflow import keras\n",
    "from keras.models import Sequential\n",
    "from keras.layers import Dense, Dropout, Flatten\n",
    "from keras.layers.convolutional import Conv2D, MaxPooling2D\n",
    "from keras.utils import np_utils\n",
    "\n",
    "from sklearn.model_selection import StratifiedKFold\n",
    "\n",
    "# Load the dataset\n",
    "(X_train, y_train), (X_test, y_test) = keras.datasets.fashion_mnist.load_data()\n",
    "\n",
    "# Normalize the data\n",
    "X_train = X_train.astype('float32') / 255.\n",
    "X_test = X_test.astype('float32') / 255.\n",
    "\n",
    "# One-hot encode the target labels\n",
    "y_train = np_utils.to_categorical(y_train)\n",
    "y_test = np_utils.to_categorical(y_test)\n",
    "\n",
    "# Define the model\n",
    "def create_model():\n",
    "    model = Sequential()\n",
    "    model.add(Conv2D(32, (3, 3), activation='relu', input_shape=(28, 28, 1)))\n",
    "    model.add(MaxPooling2D((2, 2)))\n",
    "    model.add(Conv2D(64, (3, 3), activation='relu'))\n",
    "    model.add(MaxPooling2D((2, 2)))\n",
    "    model.add(Conv2D(64, (3, 3), activation='relu'))\n",
    "    model.add(Flatten())\n",
    "    model.add(Dense(64, activation='relu'))\n",
    "    model.add(Dense(10, activation='softmax'))\n",
    "    model.compile(optimizer='adam', loss='categorical_crossentropy', metrics=['accuracy'])\n",
    "    return model\n",
    "\n",
    "\n",
    "inner_cv = StratifiedKFold(n_splits=3, shuffle=True, random_state=42)\n",
    "outer_cv = StratifiedKFold(n_splits=3, shuffle=True, random_state=42)\n",
    "\n",
    "\n",
    "outer_scores = []\n",
    "for train_index, test_index in outer_cv.split(X_train, y_train.argmax(1)):\n",
    "    X_train_outer, X_test_outer = X_train[train_index], X_train[test_index]\n",
    "    y_train_outer, y_test_outer = y_train[train_index], y_train[test_index]\n",
    "\n",
    "    inner_scores = []\n",
    "    for inner_train_index, inner_test_index in inner_cv.split(X_train_outer, y_train_outer.argmax(1)):\n",
    "        X_train_inner, X_test_inner = X_train_outer[inner_train_index], X_train_outer[inner_test_index]\n",
    "        y_train_inner, y_test_inner = y_train_outer[inner_train_index], y_train_outer[inner_test_index]\n",
    "\n",
    "        model = create_model()\n",
    "        model.fit(X_train_inner.reshape(-1, 28, 28, 1), y_train_inner, epochs=5, batch_size=64, verbose=0)\n",
    "        score = model.evaluate(X_test_inner.reshape(-1, 28, 28, 1), y_test_inner, verbose=0)\n",
    "        inner_scores.append(score[1])\n",
    "\n",
    "    outer_model = create_model()\n",
    "    outer_model.fit(X_train_outer.reshape(-1, 28, 28, 1), y_train_outer, epochs=5, batch_size=64, verbose=0)\n",
    "    score = outer_model.evaluate(X_test_outer.reshape(-1, 28, 28, 1), y_test_outer, verbose=0)\n",
    "    outer_scores.append(score[1])\n",
    "\n",
    "# Print the results\n",
    "print('Inner CV scores:', inner_scores)\n",
    "print('Outer CV scores:', outer_scores)\n",
    "print('Mean outer CV score:', np.mean(outer_scores))"
   ]
  },
  {
   "cell_type": "code",
   "execution_count": 2,
   "id": "72a7bcce",
   "metadata": {},
   "outputs": [
    {
     "name": "stdout",
     "output_type": "stream",
     "text": [
      "89.55833315849304\n"
     ]
    }
   ],
   "source": [
    "acc = np.mean(outer_scores)\n",
    "print(acc*100)"
   ]
  },
  {
   "cell_type": "code",
   "execution_count": null,
   "id": "43a11524",
   "metadata": {},
   "outputs": [],
   "source": []
  },
  {
   "cell_type": "code",
   "execution_count": null,
   "id": "4d16ec62",
   "metadata": {},
   "outputs": [],
   "source": []
  },
  {
   "cell_type": "code",
   "execution_count": null,
   "id": "da570071",
   "metadata": {},
   "outputs": [],
   "source": []
  }
 ],
 "metadata": {
  "kernelspec": {
   "display_name": "Python 3 (ipykernel)",
   "language": "python",
   "name": "python3"
  },
  "language_info": {
   "codemirror_mode": {
    "name": "ipython",
    "version": 3
   },
   "file_extension": ".py",
   "mimetype": "text/x-python",
   "name": "python",
   "nbconvert_exporter": "python",
   "pygments_lexer": "ipython3",
   "version": "3.9.13"
  }
 },
 "nbformat": 4,
 "nbformat_minor": 5
}
